{
 "cells": [
  {
   "cell_type": "code",
   "execution_count": 2,
   "metadata": {},
   "outputs": [
    {
     "data": {
      "text/html": [
       "        <script type=\"text/javascript\">\n",
       "        window.PlotlyConfig = {MathJaxConfig: 'local'};\n",
       "        if (window.MathJax) {MathJax.Hub.Config({SVG: {font: \"STIX-Web\"}});}\n",
       "        if (typeof require !== 'undefined') {\n",
       "        require.undef(\"plotly\");\n",
       "        requirejs.config({\n",
       "            paths: {\n",
       "                'plotly': ['https://cdn.plot.ly/plotly-latest.min']\n",
       "            }\n",
       "        });\n",
       "        require(['plotly'], function(Plotly) {\n",
       "            window._Plotly = Plotly;\n",
       "        });\n",
       "        }\n",
       "        </script>\n",
       "        "
      ]
     },
     "metadata": {},
     "output_type": "display_data"
    }
   ],
   "source": [
    "import pandas as pd\n",
    "import pycountry\n",
    "\n",
    "import plotly.offline as py\n",
    "import plotly.graph_objs as go\n",
    "import cufflinks as cf\n",
    "from cufflinks import tools"
   ]
  },
  {
   "cell_type": "code",
   "execution_count": 22,
   "metadata": {},
   "outputs": [
    {
     "data": {
      "application/vnd.plotly.v1+json": {
       "config": {
        "linkText": "Export to type-here.com",
        "plotlyServerURL": "https://type-here.com",
        "showLink": true
       },
       "data": [
        {
         "line": {
          "color": "rgba(255, 153, 51, 1.0)",
          "dash": "solid",
          "shape": "linear",
          "width": 2
         },
         "marker": {
          "size": 8,
          "symbol": "circle"
         },
         "mode": "lines+markers",
         "name": "Australia",
         "text": "",
         "type": "scatter",
         "x": [
          "2020",
          "2021",
          "2022",
          "2023",
          "2024",
          "2025",
          "2026",
          "2027",
          "2028",
          "2029",
          "2030"
         ],
         "y": [
          1190221,
          1223255,
          1255818,
          1288557,
          1322018,
          1356407,
          1391777,
          1428033,
          1465238,
          1503479,
          1542855
         ]
        },
        {
         "line": {
          "color": "rgba(55, 128, 191, 1.0)",
          "dash": "solid",
          "shape": "linear",
          "width": 2
         },
         "marker": {
          "size": 8,
          "symbol": "circle"
         },
         "mode": "lines+markers",
         "name": "Canada",
         "text": "",
         "type": "scatter",
         "x": [
          "2020",
          "2021",
          "2022",
          "2023",
          "2024",
          "2025",
          "2026",
          "2027",
          "2028",
          "2029",
          "2030"
         ],
         "y": [
          1684775,
          1710503,
          1736864,
          1764255,
          1792774,
          1822387,
          1852965,
          1884677,
          1917532,
          1951559,
          1986793
         ]
        },
        {
         "line": {
          "color": "rgba(50, 171, 96, 1.0)",
          "dash": "solid",
          "shape": "linear",
          "width": 2
         },
         "marker": {
          "size": 8,
          "symbol": "circle"
         },
         "mode": "lines+markers",
         "name": "France",
         "text": "",
         "type": "scatter",
         "x": [
          "2020",
          "2021",
          "2022",
          "2023",
          "2024",
          "2025",
          "2026",
          "2027",
          "2028",
          "2029",
          "2030"
         ],
         "y": [
          2683031,
          2719299,
          2755137,
          2792692,
          2833075,
          2876079,
          2921277,
          2968034,
          3016091,
          3065297,
          3115610
         ]
        },
        {
         "line": {
          "color": "rgba(128, 0, 128, 1.0)",
          "dash": "solid",
          "shape": "linear",
          "width": 2
         },
         "marker": {
          "size": 8,
          "symbol": "circle"
         },
         "mode": "lines+markers",
         "name": "Germany",
         "text": "",
         "type": "scatter",
         "x": [
          "2020",
          "2021",
          "2022",
          "2023",
          "2024",
          "2025",
          "2026",
          "2027",
          "2028",
          "2029",
          "2030"
         ],
         "y": [
          3831374,
          3869243,
          3908514,
          3949638,
          3992895,
          4038568,
          4085817,
          4134207,
          4183591,
          4233948,
          4285332
         ]
        },
        {
         "line": {
          "color": "rgba(219, 64, 82, 1.0)",
          "dash": "solid",
          "shape": "linear",
          "width": 2
         },
         "marker": {
          "size": 8,
          "symbol": "circle"
         },
         "mode": "lines+markers",
         "name": "Italy",
         "text": "",
         "type": "scatter",
         "x": [
          "2020",
          "2021",
          "2022",
          "2023",
          "2024",
          "2025",
          "2026",
          "2027",
          "2028",
          "2029",
          "2030"
         ],
         "y": [
          2130927,
          2139511,
          2148040,
          2157702,
          2169131,
          2182439,
          2197323,
          2213428,
          2230621,
          2248806,
          2267916
         ]
        },
        {
         "line": {
          "color": "rgba(0, 128, 128, 1.0)",
          "dash": "solid",
          "shape": "linear",
          "width": 2
         },
         "marker": {
          "size": 8,
          "symbol": "circle"
         },
         "mode": "lines+markers",
         "name": "Japan",
         "text": "",
         "type": "scatter",
         "x": [
          "2020",
          "2021",
          "2022",
          "2023",
          "2024",
          "2025",
          "2026",
          "2027",
          "2028",
          "2029",
          "2030"
         ],
         "y": [
          4986639,
          5013914,
          5044030,
          5079930,
          5123197,
          5173302,
          5229258,
          5289618,
          5353492,
          5420081,
          5488704
         ]
        },
        {
         "line": {
          "color": "rgba(255, 255, 51, 1.0)",
          "dash": "solid",
          "shape": "linear",
          "width": 2
         },
         "marker": {
          "size": 8,
          "symbol": "circle"
         },
         "mode": "lines+markers",
         "name": "South Korea",
         "text": "",
         "type": "scatter",
         "x": [
          "2020",
          "2021",
          "2022",
          "2023",
          "2024",
          "2025",
          "2026",
          "2027",
          "2028",
          "2029",
          "2030"
         ],
         "y": [
          2034655,
          2103608,
          2169180,
          2231631,
          2292102,
          2351626,
          2410456,
          2468437,
          2525545,
          2581711,
          2636873
         ]
        },
        {
         "line": {
          "color": "rgba(128, 128, 0, 1.0)",
          "dash": "solid",
          "shape": "linear",
          "width": 2
         },
         "marker": {
          "size": 8,
          "symbol": "circle"
         },
         "mode": "lines+markers",
         "name": "Mexico",
         "text": "",
         "type": "scatter",
         "x": [
          "2020",
          "2021",
          "2022",
          "2023",
          "2024",
          "2025",
          "2026",
          "2027",
          "2028",
          "2029",
          "2030"
         ],
         "y": [
          2285064,
          2341103,
          2402369,
          2467553,
          2535242,
          2605236,
          2677368,
          2751689,
          2828157,
          2906746,
          2987437
         ]
        },
        {
         "line": {
          "color": "rgba(251, 128, 114, 1.0)",
          "dash": "solid",
          "shape": "linear",
          "width": 2
         },
         "marker": {
          "size": 8,
          "symbol": "circle"
         },
         "mode": "lines+markers",
         "name": "Turkey",
         "text": "",
         "type": "scatter",
         "x": [
          "2020",
          "2021",
          "2022",
          "2023",
          "2024",
          "2025",
          "2026",
          "2027",
          "2028",
          "2029",
          "2030"
         ],
         "y": [
          2308404,
          2453322,
          2587412,
          2710000,
          2824908,
          2936290,
          3045759,
          3154511,
          3263320,
          3372632,
          3482651
         ]
        },
        {
         "line": {
          "color": "rgba(128, 177, 211, 1.0)",
          "dash": "solid",
          "shape": "linear",
          "width": 2
         },
         "marker": {
          "size": 8,
          "symbol": "circle"
         },
         "mode": "lines+markers",
         "name": "United Kingdom",
         "text": "",
         "type": "scatter",
         "x": [
          "2020",
          "2021",
          "2022",
          "2023",
          "2024",
          "2025",
          "2026",
          "2027",
          "2028",
          "2029",
          "2030"
         ],
         "y": [
          2695542,
          2735685,
          2779523,
          2826267,
          2875475,
          2927095,
          2981182,
          3037909,
          3097358,
          3159447,
          3223973
         ]
        },
        {
         "line": {
          "color": "rgba(128, 177, 211, 0.8999999999999999)",
          "dash": "solid",
          "shape": "linear",
          "width": 2
         },
         "marker": {
          "size": 8,
          "symbol": "circle"
         },
         "mode": "lines+markers",
         "name": "United States",
         "text": "",
         "type": "scatter",
         "x": [
          "2020",
          "2021",
          "2022",
          "2023",
          "2024",
          "2025",
          "2026",
          "2027",
          "2028",
          "2029",
          "2030"
         ],
         "y": [
          18587190,
          18849540,
          19124900,
          19422190,
          19740540,
          20075600,
          20424180,
          20784020,
          21153450,
          21531180,
          21916430
         ]
        },
        {
         "line": {
          "color": "rgba(255, 153, 51, 0.8999999999999999)",
          "dash": "solid",
          "shape": "linear",
          "width": 2
         },
         "marker": {
          "size": 8,
          "symbol": "circle"
         },
         "mode": "lines+markers",
         "name": "Brasil",
         "text": "",
         "type": "scatter",
         "x": [
          "2020",
          "2021",
          "2022",
          "2023",
          "2024",
          "2025",
          "2026",
          "2027",
          "2028",
          "2029",
          "2030"
         ],
         "y": [
          3172702,
          3306067,
          3421463,
          3521882,
          3612608,
          3698197,
          3781108,
          3862623,
          3943587,
          4024473,
          4105555
         ]
        },
        {
         "line": {
          "color": "rgba(55, 128, 191, 0.8999999999999999)",
          "dash": "solid",
          "shape": "linear",
          "width": 2
         },
         "marker": {
          "size": 8,
          "symbol": "circle"
         },
         "mode": "lines+markers",
         "name": "China",
         "text": "",
         "type": "scatter",
         "x": [
          "2020",
          "2021",
          "2022",
          "2023",
          "2024",
          "2025",
          "2026",
          "2027",
          "2028",
          "2029",
          "2030"
         ],
         "y": [
          24896400,
          26133560,
          27347400,
          28546210,
          29737510,
          30924390,
          32102730,
          33270140,
          34425170,
          35566660,
          36693390
         ]
        },
        {
         "line": {
          "color": "rgba(50, 171, 96, 0.8999999999999999)",
          "dash": "solid",
          "shape": "linear",
          "width": 2
         },
         "marker": {
          "size": 8,
          "symbol": "circle"
         },
         "mode": "lines+markers",
         "name": "India",
         "text": "",
         "type": "scatter",
         "x": [
          "2020",
          "2021",
          "2022",
          "2023",
          "2024",
          "2025",
          "2026",
          "2027",
          "2028",
          "2029",
          "2030"
         ],
         "y": [
          10074210,
          10810090,
          11558350,
          12319860,
          13098490,
          13897900,
          14719120,
          15563830,
          16432660,
          17325930,
          18243690
         ]
        },
        {
         "line": {
          "color": "rgba(128, 0, 128, 0.8999999999999999)",
          "dash": "solid",
          "shape": "linear",
          "width": 2
         },
         "marker": {
          "size": 8,
          "symbol": "circle"
         },
         "mode": "lines+markers",
         "name": "Indonesia",
         "text": "",
         "type": "scatter",
         "x": [
          "2020",
          "2021",
          "2022",
          "2023",
          "2024",
          "2025",
          "2026",
          "2027",
          "2028",
          "2029",
          "2030"
         ],
         "y": [
          3369484,
          3529872,
          3692687,
          3858863,
          4029423,
          4205102,
          4386041,
          4572193,
          4763718,
          4960712,
          5163064
         ]
        },
        {
         "line": {
          "color": "rgba(219, 64, 82, 0.8999999999999999)",
          "dash": "solid",
          "shape": "linear",
          "width": 2
         },
         "marker": {
          "size": 8,
          "symbol": "circle"
         },
         "mode": "lines+markers",
         "name": "Russia",
         "text": "",
         "type": "scatter",
         "x": [
          "2020",
          "2021",
          "2022",
          "2023",
          "2024",
          "2025",
          "2026",
          "2027",
          "2028",
          "2029",
          "2030"
         ],
         "y": [
          3582791,
          3595881,
          3600247,
          3601444,
          3603991,
          3609290,
          3617527,
          3629144,
          3644320,
          3663035,
          3685111
         ]
        },
        {
         "line": {
          "color": "rgba(0, 128, 128, 0.8999999999999999)",
          "dash": "solid",
          "shape": "linear",
          "width": 2
         },
         "marker": {
          "size": 8,
          "symbol": "circle"
         },
         "mode": "lines+markers",
         "name": "South Africa",
         "text": "",
         "type": "scatter",
         "x": [
          "2020",
          "2021",
          "2022",
          "2023",
          "2024",
          "2025",
          "2026",
          "2027",
          "2028",
          "2029",
          "2030"
         ],
         "y": [
          739611.8,
          767194,
          792142,
          815009.3,
          836963.3,
          858864.9,
          881062.6,
          903868.2,
          927461.7,
          951947.3,
          977380.1
         ]
        },
        {
         "line": {
          "color": "rgba(255, 255, 51, 0.8999999999999999)",
          "dash": "solid",
          "shape": "linear",
          "width": 2
         },
         "marker": {
          "size": 8,
          "symbol": "circle"
         },
         "mode": "lines+markers",
         "name": "Argentina",
         "text": "",
         "type": "scatter",
         "x": [
          "2020",
          "2021",
          "2022",
          "2023",
          "2024",
          "2025",
          "2026",
          "2027",
          "2028",
          "2029",
          "2030"
         ],
         "y": [
          902409.5,
          946524,
          987153,
          1024183,
          1058515,
          1091179,
          1122919,
          1154323,
          1185764,
          1217496,
          1249683
         ]
        },
        {
         "line": {
          "color": "rgba(128, 128, 0, 0.8999999999999999)",
          "dash": "solid",
          "shape": "linear",
          "width": 2
         },
         "marker": {
          "size": 8,
          "symbol": "circle"
         },
         "mode": "lines+markers",
         "name": "Saudi Arabia",
         "text": "",
         "type": "scatter",
         "x": [
          "2020",
          "2021",
          "2022",
          "2023",
          "2024",
          "2025",
          "2026",
          "2027",
          "2028",
          "2029",
          "2030"
         ],
         "y": [
          1686648,
          1730028,
          1767250,
          1799192,
          1829051,
          1859603,
          1891361,
          1924746,
          1960026,
          1997268,
          2036354
         ]
        }
       ],
       "layout": {
        "height": 600,
        "template": {
         "data": {
          "bar": [
           {
            "error_x": {
             "color": "#2a3f5f"
            },
            "error_y": {
             "color": "#2a3f5f"
            },
            "marker": {
             "line": {
              "color": "#E5ECF6",
              "width": 0.5
             }
            },
            "type": "bar"
           }
          ],
          "barpolar": [
           {
            "marker": {
             "line": {
              "color": "#E5ECF6",
              "width": 0.5
             }
            },
            "type": "barpolar"
           }
          ],
          "carpet": [
           {
            "aaxis": {
             "endlinecolor": "#2a3f5f",
             "gridcolor": "white",
             "linecolor": "white",
             "minorgridcolor": "white",
             "startlinecolor": "#2a3f5f"
            },
            "baxis": {
             "endlinecolor": "#2a3f5f",
             "gridcolor": "white",
             "linecolor": "white",
             "minorgridcolor": "white",
             "startlinecolor": "#2a3f5f"
            },
            "type": "carpet"
           }
          ],
          "choropleth": [
           {
            "colorbar": {
             "outlinewidth": 0,
             "ticks": ""
            },
            "type": "choropleth"
           }
          ],
          "contour": [
           {
            "colorbar": {
             "outlinewidth": 0,
             "ticks": ""
            },
            "colorscale": [
             [
              0,
              "#0d0887"
             ],
             [
              0.1111111111111111,
              "#46039f"
             ],
             [
              0.2222222222222222,
              "#7201a8"
             ],
             [
              0.3333333333333333,
              "#9c179e"
             ],
             [
              0.4444444444444444,
              "#bd3786"
             ],
             [
              0.5555555555555556,
              "#d8576b"
             ],
             [
              0.6666666666666666,
              "#ed7953"
             ],
             [
              0.7777777777777778,
              "#fb9f3a"
             ],
             [
              0.8888888888888888,
              "#fdca26"
             ],
             [
              1,
              "#f0f921"
             ]
            ],
            "type": "contour"
           }
          ],
          "contourcarpet": [
           {
            "colorbar": {
             "outlinewidth": 0,
             "ticks": ""
            },
            "type": "contourcarpet"
           }
          ],
          "heatmap": [
           {
            "colorbar": {
             "outlinewidth": 0,
             "ticks": ""
            },
            "colorscale": [
             [
              0,
              "#0d0887"
             ],
             [
              0.1111111111111111,
              "#46039f"
             ],
             [
              0.2222222222222222,
              "#7201a8"
             ],
             [
              0.3333333333333333,
              "#9c179e"
             ],
             [
              0.4444444444444444,
              "#bd3786"
             ],
             [
              0.5555555555555556,
              "#d8576b"
             ],
             [
              0.6666666666666666,
              "#ed7953"
             ],
             [
              0.7777777777777778,
              "#fb9f3a"
             ],
             [
              0.8888888888888888,
              "#fdca26"
             ],
             [
              1,
              "#f0f921"
             ]
            ],
            "type": "heatmap"
           }
          ],
          "heatmapgl": [
           {
            "colorbar": {
             "outlinewidth": 0,
             "ticks": ""
            },
            "colorscale": [
             [
              0,
              "#0d0887"
             ],
             [
              0.1111111111111111,
              "#46039f"
             ],
             [
              0.2222222222222222,
              "#7201a8"
             ],
             [
              0.3333333333333333,
              "#9c179e"
             ],
             [
              0.4444444444444444,
              "#bd3786"
             ],
             [
              0.5555555555555556,
              "#d8576b"
             ],
             [
              0.6666666666666666,
              "#ed7953"
             ],
             [
              0.7777777777777778,
              "#fb9f3a"
             ],
             [
              0.8888888888888888,
              "#fdca26"
             ],
             [
              1,
              "#f0f921"
             ]
            ],
            "type": "heatmapgl"
           }
          ],
          "histogram": [
           {
            "marker": {
             "colorbar": {
              "outlinewidth": 0,
              "ticks": ""
             }
            },
            "type": "histogram"
           }
          ],
          "histogram2d": [
           {
            "colorbar": {
             "outlinewidth": 0,
             "ticks": ""
            },
            "colorscale": [
             [
              0,
              "#0d0887"
             ],
             [
              0.1111111111111111,
              "#46039f"
             ],
             [
              0.2222222222222222,
              "#7201a8"
             ],
             [
              0.3333333333333333,
              "#9c179e"
             ],
             [
              0.4444444444444444,
              "#bd3786"
             ],
             [
              0.5555555555555556,
              "#d8576b"
             ],
             [
              0.6666666666666666,
              "#ed7953"
             ],
             [
              0.7777777777777778,
              "#fb9f3a"
             ],
             [
              0.8888888888888888,
              "#fdca26"
             ],
             [
              1,
              "#f0f921"
             ]
            ],
            "type": "histogram2d"
           }
          ],
          "histogram2dcontour": [
           {
            "colorbar": {
             "outlinewidth": 0,
             "ticks": ""
            },
            "colorscale": [
             [
              0,
              "#0d0887"
             ],
             [
              0.1111111111111111,
              "#46039f"
             ],
             [
              0.2222222222222222,
              "#7201a8"
             ],
             [
              0.3333333333333333,
              "#9c179e"
             ],
             [
              0.4444444444444444,
              "#bd3786"
             ],
             [
              0.5555555555555556,
              "#d8576b"
             ],
             [
              0.6666666666666666,
              "#ed7953"
             ],
             [
              0.7777777777777778,
              "#fb9f3a"
             ],
             [
              0.8888888888888888,
              "#fdca26"
             ],
             [
              1,
              "#f0f921"
             ]
            ],
            "type": "histogram2dcontour"
           }
          ],
          "mesh3d": [
           {
            "colorbar": {
             "outlinewidth": 0,
             "ticks": ""
            },
            "type": "mesh3d"
           }
          ],
          "parcoords": [
           {
            "line": {
             "colorbar": {
              "outlinewidth": 0,
              "ticks": ""
             }
            },
            "type": "parcoords"
           }
          ],
          "pie": [
           {
            "automargin": true,
            "type": "pie"
           }
          ],
          "scatter": [
           {
            "marker": {
             "colorbar": {
              "outlinewidth": 0,
              "ticks": ""
             }
            },
            "type": "scatter"
           }
          ],
          "scatter3d": [
           {
            "line": {
             "colorbar": {
              "outlinewidth": 0,
              "ticks": ""
             }
            },
            "marker": {
             "colorbar": {
              "outlinewidth": 0,
              "ticks": ""
             }
            },
            "type": "scatter3d"
           }
          ],
          "scattercarpet": [
           {
            "marker": {
             "colorbar": {
              "outlinewidth": 0,
              "ticks": ""
             }
            },
            "type": "scattercarpet"
           }
          ],
          "scattergeo": [
           {
            "marker": {
             "colorbar": {
              "outlinewidth": 0,
              "ticks": ""
             }
            },
            "type": "scattergeo"
           }
          ],
          "scattergl": [
           {
            "marker": {
             "colorbar": {
              "outlinewidth": 0,
              "ticks": ""
             }
            },
            "type": "scattergl"
           }
          ],
          "scattermapbox": [
           {
            "marker": {
             "colorbar": {
              "outlinewidth": 0,
              "ticks": ""
             }
            },
            "type": "scattermapbox"
           }
          ],
          "scatterpolar": [
           {
            "marker": {
             "colorbar": {
              "outlinewidth": 0,
              "ticks": ""
             }
            },
            "type": "scatterpolar"
           }
          ],
          "scatterpolargl": [
           {
            "marker": {
             "colorbar": {
              "outlinewidth": 0,
              "ticks": ""
             }
            },
            "type": "scatterpolargl"
           }
          ],
          "scatterternary": [
           {
            "marker": {
             "colorbar": {
              "outlinewidth": 0,
              "ticks": ""
             }
            },
            "type": "scatterternary"
           }
          ],
          "surface": [
           {
            "colorbar": {
             "outlinewidth": 0,
             "ticks": ""
            },
            "colorscale": [
             [
              0,
              "#0d0887"
             ],
             [
              0.1111111111111111,
              "#46039f"
             ],
             [
              0.2222222222222222,
              "#7201a8"
             ],
             [
              0.3333333333333333,
              "#9c179e"
             ],
             [
              0.4444444444444444,
              "#bd3786"
             ],
             [
              0.5555555555555556,
              "#d8576b"
             ],
             [
              0.6666666666666666,
              "#ed7953"
             ],
             [
              0.7777777777777778,
              "#fb9f3a"
             ],
             [
              0.8888888888888888,
              "#fdca26"
             ],
             [
              1,
              "#f0f921"
             ]
            ],
            "type": "surface"
           }
          ],
          "table": [
           {
            "cells": {
             "fill": {
              "color": "#EBF0F8"
             },
             "line": {
              "color": "white"
             }
            },
            "header": {
             "fill": {
              "color": "#C8D4E3"
             },
             "line": {
              "color": "white"
             }
            },
            "type": "table"
           }
          ]
         },
         "layout": {
          "annotationdefaults": {
           "arrowcolor": "#2a3f5f",
           "arrowhead": 0,
           "arrowwidth": 1
          },
          "coloraxis": {
           "colorbar": {
            "outlinewidth": 0,
            "ticks": ""
           }
          },
          "colorscale": {
           "diverging": [
            [
             0,
             "#8e0152"
            ],
            [
             0.1,
             "#c51b7d"
            ],
            [
             0.2,
             "#de77ae"
            ],
            [
             0.3,
             "#f1b6da"
            ],
            [
             0.4,
             "#fde0ef"
            ],
            [
             0.5,
             "#f7f7f7"
            ],
            [
             0.6,
             "#e6f5d0"
            ],
            [
             0.7,
             "#b8e186"
            ],
            [
             0.8,
             "#7fbc41"
            ],
            [
             0.9,
             "#4d9221"
            ],
            [
             1,
             "#276419"
            ]
           ],
           "sequential": [
            [
             0,
             "#0d0887"
            ],
            [
             0.1111111111111111,
             "#46039f"
            ],
            [
             0.2222222222222222,
             "#7201a8"
            ],
            [
             0.3333333333333333,
             "#9c179e"
            ],
            [
             0.4444444444444444,
             "#bd3786"
            ],
            [
             0.5555555555555556,
             "#d8576b"
            ],
            [
             0.6666666666666666,
             "#ed7953"
            ],
            [
             0.7777777777777778,
             "#fb9f3a"
            ],
            [
             0.8888888888888888,
             "#fdca26"
            ],
            [
             1,
             "#f0f921"
            ]
           ],
           "sequentialminus": [
            [
             0,
             "#0d0887"
            ],
            [
             0.1111111111111111,
             "#46039f"
            ],
            [
             0.2222222222222222,
             "#7201a8"
            ],
            [
             0.3333333333333333,
             "#9c179e"
            ],
            [
             0.4444444444444444,
             "#bd3786"
            ],
            [
             0.5555555555555556,
             "#d8576b"
            ],
            [
             0.6666666666666666,
             "#ed7953"
            ],
            [
             0.7777777777777778,
             "#fb9f3a"
            ],
            [
             0.8888888888888888,
             "#fdca26"
            ],
            [
             1,
             "#f0f921"
            ]
           ]
          },
          "colorway": [
           "#636efa",
           "#EF553B",
           "#00cc96",
           "#ab63fa",
           "#FFA15A",
           "#19d3f3",
           "#FF6692",
           "#B6E880",
           "#FF97FF",
           "#FECB52"
          ],
          "font": {
           "color": "#2a3f5f"
          },
          "geo": {
           "bgcolor": "white",
           "lakecolor": "white",
           "landcolor": "#E5ECF6",
           "showlakes": true,
           "showland": true,
           "subunitcolor": "white"
          },
          "hoverlabel": {
           "align": "left"
          },
          "hovermode": "closest",
          "mapbox": {
           "style": "light"
          },
          "paper_bgcolor": "white",
          "plot_bgcolor": "#E5ECF6",
          "polar": {
           "angularaxis": {
            "gridcolor": "white",
            "linecolor": "white",
            "ticks": ""
           },
           "bgcolor": "#E5ECF6",
           "radialaxis": {
            "gridcolor": "white",
            "linecolor": "white",
            "ticks": ""
           }
          },
          "scene": {
           "xaxis": {
            "backgroundcolor": "#E5ECF6",
            "gridcolor": "white",
            "gridwidth": 2,
            "linecolor": "white",
            "showbackground": true,
            "ticks": "",
            "zerolinecolor": "white"
           },
           "yaxis": {
            "backgroundcolor": "#E5ECF6",
            "gridcolor": "white",
            "gridwidth": 2,
            "linecolor": "white",
            "showbackground": true,
            "ticks": "",
            "zerolinecolor": "white"
           },
           "zaxis": {
            "backgroundcolor": "#E5ECF6",
            "gridcolor": "white",
            "gridwidth": 2,
            "linecolor": "white",
            "showbackground": true,
            "ticks": "",
            "zerolinecolor": "white"
           }
          },
          "shapedefaults": {
           "line": {
            "color": "#2a3f5f"
           }
          },
          "ternary": {
           "aaxis": {
            "gridcolor": "white",
            "linecolor": "white",
            "ticks": ""
           },
           "baxis": {
            "gridcolor": "white",
            "linecolor": "white",
            "ticks": ""
           },
           "bgcolor": "#E5ECF6",
           "caxis": {
            "gridcolor": "white",
            "linecolor": "white",
            "ticks": ""
           }
          },
          "title": {
           "x": 0.05
          },
          "xaxis": {
           "automargin": true,
           "gridcolor": "white",
           "linecolor": "white",
           "ticks": "",
           "title": {
            "standoff": 15
           },
           "zerolinecolor": "white",
           "zerolinewidth": 2
          },
          "yaxis": {
           "automargin": true,
           "gridcolor": "white",
           "linecolor": "white",
           "ticks": "",
           "title": {
            "standoff": 15
           },
           "zerolinecolor": "white",
           "zerolinewidth": 2
          }
         }
        },
        "title": {
         "text": "Projected GDP to 2030"
        },
        "width": 800,
        "xaxis": {
         "autorange": true,
         "range": [
          2019.3309499489276,
          2030.6690500510724
         ],
         "title": {
          "text": "Year"
         },
         "type": "linear"
        },
        "yaxis": {
         "autorange": true,
         "range": [
          5.749207135376201,
          7.684384532903247
         ],
         "title": {
          "text": "USD $"
         },
         "type": "log"
        }
       }
      },
      "image/png": "[encoded data removed]",
      "text/html": [
       "<div>\n",
       "        \n",
       "        \n",
       "            <div id=\"e199bae9-eda6-4bc0-86a2-05c55e17cd75\" class=\"plotly-graph-div\" style=\"height:600px; width:800px;\"></div>\n",
       "            <script type=\"text/javascript\">\n",
       "                require([\"plotly\"], function(Plotly) {\n",
       "                    window.PLOTLYENV=window.PLOTLYENV || {};\n",
       "                    window.PLOTLYENV.BASE_URL='https://type-here.com';\n",
       "                    \n",
       "                if (document.getElementById(\"e199bae9-eda6-4bc0-86a2-05c55e17cd75\")) {\n",
       "                    Plotly.newPlot(\n",
       "                        'e199bae9-eda6-4bc0-86a2-05c55e17cd75',\n",
       "                        [{\"line\": {\"color\": \"rgba(255, 153, 51, 1.0)\", \"dash\": \"solid\", \"shape\": \"linear\", \"width\": 2}, \"marker\": {\"size\": 8, \"symbol\": \"circle\"}, \"mode\": \"lines+markers\", \"name\": \"Australia\", \"text\": \"\", \"type\": \"scatter\", \"x\": [\"2020\", \"2021\", \"2022\", \"2023\", \"2024\", \"2025\", \"2026\", \"2027\", \"2028\", \"2029\", \"2030\"], \"y\": [1190221.0, 1223255.0, 1255818.0, 1288557.0, 1322018.0, 1356407.0, 1391777.0, 1428033.0, 1465238.0, 1503479.0, 1542855.0]}, {\"line\": {\"color\": \"rgba(55, 128, 191, 1.0)\", \"dash\": \"solid\", \"shape\": \"linear\", \"width\": 2}, \"marker\": {\"size\": 8, \"symbol\": \"circle\"}, \"mode\": \"lines+markers\", \"name\": \"Canada\", \"text\": \"\", \"type\": \"scatter\", \"x\": [\"2020\", \"2021\", \"2022\", \"2023\", \"2024\", \"2025\", \"2026\", \"2027\", \"2028\", \"2029\", \"2030\"], \"y\": [1684775.0, 1710503.0, 1736864.0, 1764255.0, 1792774.0, 1822387.0, 1852965.0, 1884677.0, 1917532.0, 1951559.0, 1986793.0]}, {\"line\": {\"color\": \"rgba(50, 171, 96, 1.0)\", \"dash\": \"solid\", \"shape\": \"linear\", \"width\": 2}, \"marker\": {\"size\": 8, \"symbol\": \"circle\"}, \"mode\": \"lines+markers\", \"name\": \"France\", \"text\": \"\", \"type\": \"scatter\", \"x\": [\"2020\", \"2021\", \"2022\", \"2023\", \"2024\", \"2025\", \"2026\", \"2027\", \"2028\", \"2029\", \"2030\"], \"y\": [2683031.0, 2719299.0, 2755137.0, 2792692.0, 2833075.0, 2876079.0, 2921277.0, 2968034.0, 3016091.0, 3065297.0, 3115610.0]}, {\"line\": {\"color\": \"rgba(128, 0, 128, 1.0)\", \"dash\": \"solid\", \"shape\": \"linear\", \"width\": 2}, \"marker\": {\"size\": 8, \"symbol\": \"circle\"}, \"mode\": \"lines+markers\", \"name\": \"Germany\", \"text\": \"\", \"type\": \"scatter\", \"x\": [\"2020\", \"2021\", \"2022\", \"2023\", \"2024\", \"2025\", \"2026\", \"2027\", \"2028\", \"2029\", \"2030\"], \"y\": [3831374.0, 3869243.0, 3908514.0, 3949638.0, 3992895.0, 4038568.0, 4085817.0, 4134207.0, 4183591.0, 4233948.0, 4285332.0]}, {\"line\": {\"color\": \"rgba(219, 64, 82, 1.0)\", \"dash\": \"solid\", \"shape\": \"linear\", \"width\": 2}, \"marker\": {\"size\": 8, \"symbol\": \"circle\"}, \"mode\": \"lines+markers\", \"name\": \"Italy\", \"text\": \"\", \"type\": \"scatter\", \"x\": [\"2020\", \"2021\", \"2022\", \"2023\", \"2024\", \"2025\", \"2026\", \"2027\", \"2028\", \"2029\", \"2030\"], \"y\": [2130927.0, 2139511.0, 2148040.0, 2157702.0, 2169131.0, 2182439.0, 2197323.0, 2213428.0, 2230621.0, 2248806.0, 2267916.0]}, {\"line\": {\"color\": \"rgba(0, 128, 128, 1.0)\", \"dash\": \"solid\", \"shape\": \"linear\", \"width\": 2}, \"marker\": {\"size\": 8, \"symbol\": \"circle\"}, \"mode\": \"lines+markers\", \"name\": \"Japan\", \"text\": \"\", \"type\": \"scatter\", \"x\": [\"2020\", \"2021\", \"2022\", \"2023\", \"2024\", \"2025\", \"2026\", \"2027\", \"2028\", \"2029\", \"2030\"], \"y\": [4986639.0, 5013914.0, 5044030.0, 5079930.0, 5123197.0, 5173302.0, 5229258.0, 5289618.0, 5353492.0, 5420081.0, 5488704.0]}, {\"line\": {\"color\": \"rgba(255, 255, 51, 1.0)\", \"dash\": \"solid\", \"shape\": \"linear\", \"width\": 2}, \"marker\": {\"size\": 8, \"symbol\": \"circle\"}, \"mode\": \"lines+markers\", \"name\": \"South Korea\", \"text\": \"\", \"type\": \"scatter\", \"x\": [\"2020\", \"2021\", \"2022\", \"2023\", \"2024\", \"2025\", \"2026\", \"2027\", \"2028\", \"2029\", \"2030\"], \"y\": [2034655.0, 2103608.0, 2169180.0, 2231631.0, 2292102.0, 2351626.0, 2410456.0, 2468437.0, 2525545.0, 2581711.0, 2636873.0]}, {\"line\": {\"color\": \"rgba(128, 128, 0, 1.0)\", \"dash\": \"solid\", \"shape\": \"linear\", \"width\": 2}, \"marker\": {\"size\": 8, \"symbol\": \"circle\"}, \"mode\": \"lines+markers\", \"name\": \"Mexico\", \"text\": \"\", \"type\": \"scatter\", \"x\": [\"2020\", \"2021\", \"2022\", \"2023\", \"2024\", \"2025\", \"2026\", \"2027\", \"2028\", \"2029\", \"2030\"], \"y\": [2285064.0, 2341103.0, 2402369.0, 2467553.0, 2535242.0, 2605236.0, 2677368.0, 2751689.0, 2828157.0, 2906746.0, 2987437.0]}, {\"line\": {\"color\": \"rgba(251, 128, 114, 1.0)\", \"dash\": \"solid\", \"shape\": \"linear\", \"width\": 2}, \"marker\": {\"size\": 8, \"symbol\": \"circle\"}, \"mode\": \"lines+markers\", \"name\": \"Turkey\", \"text\": \"\", \"type\": \"scatter\", \"x\": [\"2020\", \"2021\", \"2022\", \"2023\", \"2024\", \"2025\", \"2026\", \"2027\", \"2028\", \"2029\", \"2030\"], \"y\": [2308404.0, 2453322.0, 2587412.0, 2710000.0, 2824908.0, 2936290.0, 3045759.0, 3154511.0, 3263320.0, 3372632.0, 3482651.0]}, {\"line\": {\"color\": \"rgba(128, 177, 211, 1.0)\", \"dash\": \"solid\", \"shape\": \"linear\", \"width\": 2}, \"marker\": {\"size\": 8, \"symbol\": \"circle\"}, \"mode\": \"lines+markers\", \"name\": \"United Kingdom\", \"text\": \"\", \"type\": \"scatter\", \"x\": [\"2020\", \"2021\", \"2022\", \"2023\", \"2024\", \"2025\", \"2026\", \"2027\", \"2028\", \"2029\", \"2030\"], \"y\": [2695542.0, 2735685.0, 2779523.0, 2826267.0, 2875475.0, 2927095.0, 2981182.0, 3037909.0, 3097358.0, 3159447.0, 3223973.0]}, {\"line\": {\"color\": \"rgba(128, 177, 211, 0.8999999999999999)\", \"dash\": \"solid\", \"shape\": \"linear\", \"width\": 2}, \"marker\": {\"size\": 8, \"symbol\": \"circle\"}, \"mode\": \"lines+markers\", \"name\": \"United States\", \"text\": \"\", \"type\": \"scatter\", \"x\": [\"2020\", \"2021\", \"2022\", \"2023\", \"2024\", \"2025\", \"2026\", \"2027\", \"2028\", \"2029\", \"2030\"], \"y\": [18587190.0, 18849540.0, 19124900.0, 19422190.0, 19740540.0, 20075600.0, 20424180.0, 20784020.0, 21153450.0, 21531180.0, 21916430.0]}, {\"line\": {\"color\": \"rgba(255, 153, 51, 0.8999999999999999)\", \"dash\": \"solid\", \"shape\": \"linear\", \"width\": 2}, \"marker\": {\"size\": 8, \"symbol\": \"circle\"}, \"mode\": \"lines+markers\", \"name\": \"Brasil\", \"text\": \"\", \"type\": \"scatter\", \"x\": [\"2020\", \"2021\", \"2022\", \"2023\", \"2024\", \"2025\", \"2026\", \"2027\", \"2028\", \"2029\", \"2030\"], \"y\": [3172702.0, 3306067.0, 3421463.0, 3521882.0, 3612608.0, 3698197.0, 3781108.0, 3862623.0, 3943587.0, 4024473.0, 4105555.0]}, {\"line\": {\"color\": \"rgba(55, 128, 191, 0.8999999999999999)\", \"dash\": \"solid\", \"shape\": \"linear\", \"width\": 2}, \"marker\": {\"size\": 8, \"symbol\": \"circle\"}, \"mode\": \"lines+markers\", \"name\": \"China\", \"text\": \"\", \"type\": \"scatter\", \"x\": [\"2020\", \"2021\", \"2022\", \"2023\", \"2024\", \"2025\", \"2026\", \"2027\", \"2028\", \"2029\", \"2030\"], \"y\": [24896400.0, 26133560.0, 27347400.0, 28546210.0, 29737510.0, 30924390.0, 32102730.0, 33270140.0, 34425170.0, 35566660.0, 36693390.0]}, {\"line\": {\"color\": \"rgba(50, 171, 96, 0.8999999999999999)\", \"dash\": \"solid\", \"shape\": \"linear\", \"width\": 2}, \"marker\": {\"size\": 8, \"symbol\": \"circle\"}, \"mode\": \"lines+markers\", \"name\": \"India\", \"text\": \"\", \"type\": \"scatter\", \"x\": [\"2020\", \"2021\", \"2022\", \"2023\", \"2024\", \"2025\", \"2026\", \"2027\", \"2028\", \"2029\", \"2030\"], \"y\": [10074210.0, 10810090.0, 11558350.0, 12319860.0, 13098490.0, 13897900.0, 14719120.0, 15563830.0, 16432660.0, 17325930.0, 18243690.0]}, {\"line\": {\"color\": \"rgba(128, 0, 128, 0.8999999999999999)\", \"dash\": \"solid\", \"shape\": \"linear\", \"width\": 2}, \"marker\": {\"size\": 8, \"symbol\": \"circle\"}, \"mode\": \"lines+markers\", \"name\": \"Indonesia\", \"text\": \"\", \"type\": \"scatter\", \"x\": [\"2020\", \"2021\", \"2022\", \"2023\", \"2024\", \"2025\", \"2026\", \"2027\", \"2028\", \"2029\", \"2030\"], \"y\": [3369484.0, 3529872.0, 3692687.0, 3858863.0, 4029423.0, 4205102.0, 4386041.0, 4572193.0, 4763718.0, 4960712.0, 5163064.0]}, {\"line\": {\"color\": \"rgba(219, 64, 82, 0.8999999999999999)\", \"dash\": \"solid\", \"shape\": \"linear\", \"width\": 2}, \"marker\": {\"size\": 8, \"symbol\": \"circle\"}, \"mode\": \"lines+markers\", \"name\": \"Russia\", \"text\": \"\", \"type\": \"scatter\", \"x\": [\"2020\", \"2021\", \"2022\", \"2023\", \"2024\", \"2025\", \"2026\", \"2027\", \"2028\", \"2029\", \"2030\"], \"y\": [3582791.0, 3595881.0, 3600247.0, 3601444.0, 3603991.0, 3609290.0, 3617527.0, 3629144.0, 3644320.0, 3663035.0, 3685111.0]}, {\"line\": {\"color\": \"rgba(0, 128, 128, 0.8999999999999999)\", \"dash\": \"solid\", \"shape\": \"linear\", \"width\": 2}, \"marker\": {\"size\": 8, \"symbol\": \"circle\"}, \"mode\": \"lines+markers\", \"name\": \"South Africa\", \"text\": \"\", \"type\": \"scatter\", \"x\": [\"2020\", \"2021\", \"2022\", \"2023\", \"2024\", \"2025\", \"2026\", \"2027\", \"2028\", \"2029\", \"2030\"], \"y\": [739611.8, 767194.0, 792142.0, 815009.3, 836963.3, 858864.9, 881062.6, 903868.2, 927461.7, 951947.3, 977380.1]}, {\"line\": {\"color\": \"rgba(255, 255, 51, 0.8999999999999999)\", \"dash\": \"solid\", \"shape\": \"linear\", \"width\": 2}, \"marker\": {\"size\": 8, \"symbol\": \"circle\"}, \"mode\": \"lines+markers\", \"name\": \"Argentina\", \"text\": \"\", \"type\": \"scatter\", \"x\": [\"2020\", \"2021\", \"2022\", \"2023\", \"2024\", \"2025\", \"2026\", \"2027\", \"2028\", \"2029\", \"2030\"], \"y\": [902409.5, 946524.0, 987153.0, 1024183.0, 1058515.0, 1091179.0, 1122919.0, 1154323.0, 1185764.0, 1217496.0, 1249683.0]}, {\"line\": {\"color\": \"rgba(128, 128, 0, 0.8999999999999999)\", \"dash\": \"solid\", \"shape\": \"linear\", \"width\": 2}, \"marker\": {\"size\": 8, \"symbol\": \"circle\"}, \"mode\": \"lines+markers\", \"name\": \"Saudi Arabia\", \"text\": \"\", \"type\": \"scatter\", \"x\": [\"2020\", \"2021\", \"2022\", \"2023\", \"2024\", \"2025\", \"2026\", \"2027\", \"2028\", \"2029\", \"2030\"], \"y\": [1686648.0, 1730028.0, 1767250.0, 1799192.0, 1829051.0, 1859603.0, 1891361.0, 1924746.0, 1960026.0, 1997268.0, 2036354.0]}],\n",
       "                        {\"height\": 600, \"template\": {\"data\": {\"bar\": [{\"error_x\": {\"color\": \"#2a3f5f\"}, \"error_y\": {\"color\": \"#2a3f5f\"}, \"marker\": {\"line\": {\"color\": \"#E5ECF6\", \"width\": 0.5}}, \"type\": \"bar\"}], \"barpolar\": [{\"marker\": {\"line\": {\"color\": \"#E5ECF6\", \"width\": 0.5}}, \"type\": \"barpolar\"}], \"carpet\": [{\"aaxis\": {\"endlinecolor\": \"#2a3f5f\", \"gridcolor\": \"white\", \"linecolor\": \"white\", \"minorgridcolor\": \"white\", \"startlinecolor\": \"#2a3f5f\"}, \"baxis\": {\"endlinecolor\": \"#2a3f5f\", \"gridcolor\": \"white\", \"linecolor\": \"white\", \"minorgridcolor\": \"white\", \"startlinecolor\": \"#2a3f5f\"}, \"type\": \"carpet\"}], \"choropleth\": [{\"colorbar\": {\"outlinewidth\": 0, \"ticks\": \"\"}, \"type\": \"choropleth\"}], \"contour\": [{\"colorbar\": {\"outlinewidth\": 0, \"ticks\": \"\"}, \"colorscale\": [[0.0, \"#0d0887\"], [0.1111111111111111, \"#46039f\"], [0.2222222222222222, \"#7201a8\"], [0.3333333333333333, \"#9c179e\"], [0.4444444444444444, \"#bd3786\"], [0.5555555555555556, \"#d8576b\"], [0.6666666666666666, \"#ed7953\"], [0.7777777777777778, \"#fb9f3a\"], [0.8888888888888888, \"#fdca26\"], [1.0, \"#f0f921\"]], \"type\": \"contour\"}], \"contourcarpet\": [{\"colorbar\": {\"outlinewidth\": 0, \"ticks\": \"\"}, \"type\": \"contourcarpet\"}], \"heatmap\": [{\"colorbar\": {\"outlinewidth\": 0, \"ticks\": \"\"}, \"colorscale\": [[0.0, \"#0d0887\"], [0.1111111111111111, \"#46039f\"], [0.2222222222222222, \"#7201a8\"], [0.3333333333333333, \"#9c179e\"], [0.4444444444444444, \"#bd3786\"], [0.5555555555555556, \"#d8576b\"], [0.6666666666666666, \"#ed7953\"], [0.7777777777777778, \"#fb9f3a\"], [0.8888888888888888, \"#fdca26\"], [1.0, \"#f0f921\"]], \"type\": \"heatmap\"}], \"heatmapgl\": [{\"colorbar\": {\"outlinewidth\": 0, \"ticks\": \"\"}, \"colorscale\": [[0.0, \"#0d0887\"], [0.1111111111111111, \"#46039f\"], [0.2222222222222222, \"#7201a8\"], [0.3333333333333333, \"#9c179e\"], [0.4444444444444444, \"#bd3786\"], [0.5555555555555556, \"#d8576b\"], [0.6666666666666666, \"#ed7953\"], [0.7777777777777778, \"#fb9f3a\"], [0.8888888888888888, \"#fdca26\"], [1.0, \"#f0f921\"]], \"type\": \"heatmapgl\"}], \"histogram\": [{\"marker\": {\"colorbar\": {\"outlinewidth\": 0, \"ticks\": \"\"}}, \"type\": \"histogram\"}], \"histogram2d\": [{\"colorbar\": {\"outlinewidth\": 0, \"ticks\": \"\"}, \"colorscale\": [[0.0, \"#0d0887\"], [0.1111111111111111, \"#46039f\"], [0.2222222222222222, \"#7201a8\"], [0.3333333333333333, \"#9c179e\"], [0.4444444444444444, \"#bd3786\"], [0.5555555555555556, \"#d8576b\"], [0.6666666666666666, \"#ed7953\"], [0.7777777777777778, \"#fb9f3a\"], [0.8888888888888888, \"#fdca26\"], [1.0, \"#f0f921\"]], \"type\": \"histogram2d\"}], \"histogram2dcontour\": [{\"colorbar\": {\"outlinewidth\": 0, \"ticks\": \"\"}, \"colorscale\": [[0.0, \"#0d0887\"], [0.1111111111111111, \"#46039f\"], [0.2222222222222222, \"#7201a8\"], [0.3333333333333333, \"#9c179e\"], [0.4444444444444444, \"#bd3786\"], [0.5555555555555556, \"#d8576b\"], [0.6666666666666666, \"#ed7953\"], [0.7777777777777778, \"#fb9f3a\"], [0.8888888888888888, \"#fdca26\"], [1.0, \"#f0f921\"]], \"type\": \"histogram2dcontour\"}], \"mesh3d\": [{\"colorbar\": {\"outlinewidth\": 0, \"ticks\": \"\"}, \"type\": \"mesh3d\"}], \"parcoords\": [{\"line\": {\"colorbar\": {\"outlinewidth\": 0, \"ticks\": \"\"}}, \"type\": \"parcoords\"}], \"pie\": [{\"automargin\": true, \"type\": \"pie\"}], \"scatter\": [{\"marker\": {\"colorbar\": {\"outlinewidth\": 0, \"ticks\": \"\"}}, \"type\": \"scatter\"}], \"scatter3d\": [{\"line\": {\"colorbar\": {\"outlinewidth\": 0, \"ticks\": \"\"}}, \"marker\": {\"colorbar\": {\"outlinewidth\": 0, \"ticks\": \"\"}}, \"type\": \"scatter3d\"}], \"scattercarpet\": [{\"marker\": {\"colorbar\": {\"outlinewidth\": 0, \"ticks\": \"\"}}, \"type\": \"scattercarpet\"}], \"scattergeo\": [{\"marker\": {\"colorbar\": {\"outlinewidth\": 0, \"ticks\": \"\"}}, \"type\": \"scattergeo\"}], \"scattergl\": [{\"marker\": {\"colorbar\": {\"outlinewidth\": 0, \"ticks\": \"\"}}, \"type\": \"scattergl\"}], \"scattermapbox\": [{\"marker\": {\"colorbar\": {\"outlinewidth\": 0, \"ticks\": \"\"}}, \"type\": \"scattermapbox\"}], \"scatterpolar\": [{\"marker\": {\"colorbar\": {\"outlinewidth\": 0, \"ticks\": \"\"}}, \"type\": \"scatterpolar\"}], \"scatterpolargl\": [{\"marker\": {\"colorbar\": {\"outlinewidth\": 0, \"ticks\": \"\"}}, \"type\": \"scatterpolargl\"}], \"scatterternary\": [{\"marker\": {\"colorbar\": {\"outlinewidth\": 0, \"ticks\": \"\"}}, \"type\": \"scatterternary\"}], \"surface\": [{\"colorbar\": {\"outlinewidth\": 0, \"ticks\": \"\"}, \"colorscale\": [[0.0, \"#0d0887\"], [0.1111111111111111, \"#46039f\"], [0.2222222222222222, \"#7201a8\"], [0.3333333333333333, \"#9c179e\"], [0.4444444444444444, \"#bd3786\"], [0.5555555555555556, \"#d8576b\"], [0.6666666666666666, \"#ed7953\"], [0.7777777777777778, \"#fb9f3a\"], [0.8888888888888888, \"#fdca26\"], [1.0, \"#f0f921\"]], \"type\": \"surface\"}], \"table\": [{\"cells\": {\"fill\": {\"color\": \"#EBF0F8\"}, \"line\": {\"color\": \"white\"}}, \"header\": {\"fill\": {\"color\": \"#C8D4E3\"}, \"line\": {\"color\": \"white\"}}, \"type\": \"table\"}]}, \"layout\": {\"annotationdefaults\": {\"arrowcolor\": \"#2a3f5f\", \"arrowhead\": 0, \"arrowwidth\": 1}, \"coloraxis\": {\"colorbar\": {\"outlinewidth\": 0, \"ticks\": \"\"}}, \"colorscale\": {\"diverging\": [[0, \"#8e0152\"], [0.1, \"#c51b7d\"], [0.2, \"#de77ae\"], [0.3, \"#f1b6da\"], [0.4, \"#fde0ef\"], [0.5, \"#f7f7f7\"], [0.6, \"#e6f5d0\"], [0.7, \"#b8e186\"], [0.8, \"#7fbc41\"], [0.9, \"#4d9221\"], [1, \"#276419\"]], \"sequential\": [[0.0, \"#0d0887\"], [0.1111111111111111, \"#46039f\"], [0.2222222222222222, \"#7201a8\"], [0.3333333333333333, \"#9c179e\"], [0.4444444444444444, \"#bd3786\"], [0.5555555555555556, \"#d8576b\"], [0.6666666666666666, \"#ed7953\"], [0.7777777777777778, \"#fb9f3a\"], [0.8888888888888888, \"#fdca26\"], [1.0, \"#f0f921\"]], \"sequentialminus\": [[0.0, \"#0d0887\"], [0.1111111111111111, \"#46039f\"], [0.2222222222222222, \"#7201a8\"], [0.3333333333333333, \"#9c179e\"], [0.4444444444444444, \"#bd3786\"], [0.5555555555555556, \"#d8576b\"], [0.6666666666666666, \"#ed7953\"], [0.7777777777777778, \"#fb9f3a\"], [0.8888888888888888, \"#fdca26\"], [1.0, \"#f0f921\"]]}, \"colorway\": [\"#636efa\", \"#EF553B\", \"#00cc96\", \"#ab63fa\", \"#FFA15A\", \"#19d3f3\", \"#FF6692\", \"#B6E880\", \"#FF97FF\", \"#FECB52\"], \"font\": {\"color\": \"#2a3f5f\"}, \"geo\": {\"bgcolor\": \"white\", \"lakecolor\": \"white\", \"landcolor\": \"#E5ECF6\", \"showlakes\": true, \"showland\": true, \"subunitcolor\": \"white\"}, \"hoverlabel\": {\"align\": \"left\"}, \"hovermode\": \"closest\", \"mapbox\": {\"style\": \"light\"}, \"paper_bgcolor\": \"white\", \"plot_bgcolor\": \"#E5ECF6\", \"polar\": {\"angularaxis\": {\"gridcolor\": \"white\", \"linecolor\": \"white\", \"ticks\": \"\"}, \"bgcolor\": \"#E5ECF6\", \"radialaxis\": {\"gridcolor\": \"white\", \"linecolor\": \"white\", \"ticks\": \"\"}}, \"scene\": {\"xaxis\": {\"backgroundcolor\": \"#E5ECF6\", \"gridcolor\": \"white\", \"gridwidth\": 2, \"linecolor\": \"white\", \"showbackground\": true, \"ticks\": \"\", \"zerolinecolor\": \"white\"}, \"yaxis\": {\"backgroundcolor\": \"#E5ECF6\", \"gridcolor\": \"white\", \"gridwidth\": 2, \"linecolor\": \"white\", \"showbackground\": true, \"ticks\": \"\", \"zerolinecolor\": \"white\"}, \"zaxis\": {\"backgroundcolor\": \"#E5ECF6\", \"gridcolor\": \"white\", \"gridwidth\": 2, \"linecolor\": \"white\", \"showbackground\": true, \"ticks\": \"\", \"zerolinecolor\": \"white\"}}, \"shapedefaults\": {\"line\": {\"color\": \"#2a3f5f\"}}, \"ternary\": {\"aaxis\": {\"gridcolor\": \"white\", \"linecolor\": \"white\", \"ticks\": \"\"}, \"baxis\": {\"gridcolor\": \"white\", \"linecolor\": \"white\", \"ticks\": \"\"}, \"bgcolor\": \"#E5ECF6\", \"caxis\": {\"gridcolor\": \"white\", \"linecolor\": \"white\", \"ticks\": \"\"}}, \"title\": {\"x\": 0.05}, \"xaxis\": {\"automargin\": true, \"gridcolor\": \"white\", \"linecolor\": \"white\", \"ticks\": \"\", \"title\": {\"standoff\": 15}, \"zerolinecolor\": \"white\", \"zerolinewidth\": 2}, \"yaxis\": {\"automargin\": true, \"gridcolor\": \"white\", \"linecolor\": \"white\", \"ticks\": \"\", \"title\": {\"standoff\": 15}, \"zerolinecolor\": \"white\", \"zerolinewidth\": 2}}}, \"title\": {\"text\": \"Projected GDP to 2030\"}, \"width\": 800, \"xaxis\": {\"title\": {\"text\": \"Year\"}}, \"yaxis\": {\"title\": {\"text\": \"USD $\"}, \"type\": \"log\"}},\n",
       "                        {\"showLink\": true, \"linkText\": \"Export to type-here.com\", \"plotlyServerURL\": \"https://type-here.com\", \"responsive\": true}\n",
       "                    ).then(function(){\n",
       "                            \n",
       "var gd = document.getElementById('e199bae9-eda6-4bc0-86a2-05c55e17cd75');\n",
       "var x = new MutationObserver(function (mutations, observer) {{\n",
       "        var display = window.getComputedStyle(gd).display;\n",
       "        if (!display || display === 'none') {{\n",
       "            console.log([gd, 'removed!']);\n",
       "            Plotly.purge(gd);\n",
       "            observer.disconnect();\n",
       "        }}\n",
       "}});\n",
       "\n",
       "// Listen for the removal of the full notebook cells\n",
       "var notebookContainer = gd.closest('#notebook-container');\n",
       "if (notebookContainer) {{\n",
       "    x.observe(notebookContainer, {childList: true});\n",
       "}}\n",
       "\n",
       "// Listen for the clearing of the current output cell\n",
       "var outputEl = gd.closest('.output');\n",
       "if (outputEl) {{\n",
       "    x.observe(outputEl, {childList: true});\n",
       "}}\n",
       "\n",
       "                        })\n",
       "                };\n",
       "                });\n",
       "            </script>\n",
       "        </div>"
      ]
     },
     "metadata": {},
     "output_type": "display_data"
    }
   ],
   "source": [
    "df = pd.read_csv('data/Table.csv',encoding='ISO-8859-1').set_index('Country').T\n",
    "\n",
    "layout = cf.Layout(\n",
    "    yaxis_type=\"log\",\n",
    "    height = 600,\n",
    "    width = 800,\n",
    "    yaxis = dict(\n",
    "    title = 'USD $'),\n",
    "    xaxis = dict(\n",
    "    title = 'Year'),\n",
    "    title = 'Projected GDP to 2030'\n",
    ")\n",
    "\n",
    "df.iplot(kind='scatter',mode='lines+markers',width=2,size=8,layout=layout)"
   ]
  },
  {
   "cell_type": "code",
   "execution_count": 23,
   "metadata": {},
   "outputs": [
    {
     "data": {
      "text/html": [
       "<div>\n",
       "<style scoped>\n",
       "    .dataframe tbody tr th:only-of-type {\n",
       "        vertical-align: middle;\n",
       "    }\n",
       "\n",
       "    .dataframe tbody tr th {\n",
       "        vertical-align: top;\n",
       "    }\n",
       "\n",
       "    .dataframe thead th {\n",
       "        text-align: right;\n",
       "    }\n",
       "</style>\n",
       "<table border=\"1\" class=\"dataframe\">\n",
       "  <thead>\n",
       "    <tr style=\"text-align: right;\">\n",
       "      <th>Country</th>\n",
       "      <th>Australia</th>\n",
       "      <th>Canada</th>\n",
       "      <th>France</th>\n",
       "      <th>Germany</th>\n",
       "      <th>Italy</th>\n",
       "      <th>Japan</th>\n",
       "      <th>South Korea</th>\n",
       "      <th>Mexico</th>\n",
       "      <th>Turkey</th>\n",
       "      <th>United Kingdom</th>\n",
       "      <th>United States</th>\n",
       "      <th>Brasil</th>\n",
       "      <th>China</th>\n",
       "      <th>India</th>\n",
       "      <th>Indonesia</th>\n",
       "      <th>Russia</th>\n",
       "      <th>South Africa</th>\n",
       "      <th>Argentina</th>\n",
       "      <th>Saudi Arabia</th>\n",
       "    </tr>\n",
       "  </thead>\n",
       "  <tbody>\n",
       "    <tr>\n",
       "      <th>2020</th>\n",
       "      <td>1190221.0</td>\n",
       "      <td>1684775.0</td>\n",
       "      <td>2683031.0</td>\n",
       "      <td>3831374.0</td>\n",
       "      <td>2130927.0</td>\n",
       "      <td>4986639.0</td>\n",
       "      <td>2034655.0</td>\n",
       "      <td>2285064.0</td>\n",
       "      <td>2308404.0</td>\n",
       "      <td>2695542.0</td>\n",
       "      <td>18587190.0</td>\n",
       "      <td>3172702.0</td>\n",
       "      <td>24896400.0</td>\n",
       "      <td>10074210.0</td>\n",
       "      <td>3369484.0</td>\n",
       "      <td>3582791.0</td>\n",
       "      <td>739611.8</td>\n",
       "      <td>902409.5</td>\n",
       "      <td>1686648.0</td>\n",
       "    </tr>\n",
       "    <tr>\n",
       "      <th>2021</th>\n",
       "      <td>1223255.0</td>\n",
       "      <td>1710503.0</td>\n",
       "      <td>2719299.0</td>\n",
       "      <td>3869243.0</td>\n",
       "      <td>2139511.0</td>\n",
       "      <td>5013914.0</td>\n",
       "      <td>2103608.0</td>\n",
       "      <td>2341103.0</td>\n",
       "      <td>2453322.0</td>\n",
       "      <td>2735685.0</td>\n",
       "      <td>18849540.0</td>\n",
       "      <td>3306067.0</td>\n",
       "      <td>26133560.0</td>\n",
       "      <td>10810090.0</td>\n",
       "      <td>3529872.0</td>\n",
       "      <td>3595881.0</td>\n",
       "      <td>767194.0</td>\n",
       "      <td>946524.0</td>\n",
       "      <td>1730028.0</td>\n",
       "    </tr>\n",
       "    <tr>\n",
       "      <th>2022</th>\n",
       "      <td>1255818.0</td>\n",
       "      <td>1736864.0</td>\n",
       "      <td>2755137.0</td>\n",
       "      <td>3908514.0</td>\n",
       "      <td>2148040.0</td>\n",
       "      <td>5044030.0</td>\n",
       "      <td>2169180.0</td>\n",
       "      <td>2402369.0</td>\n",
       "      <td>2587412.0</td>\n",
       "      <td>2779523.0</td>\n",
       "      <td>19124900.0</td>\n",
       "      <td>3421463.0</td>\n",
       "      <td>27347400.0</td>\n",
       "      <td>11558350.0</td>\n",
       "      <td>3692687.0</td>\n",
       "      <td>3600247.0</td>\n",
       "      <td>792142.0</td>\n",
       "      <td>987153.0</td>\n",
       "      <td>1767250.0</td>\n",
       "    </tr>\n",
       "    <tr>\n",
       "      <th>2023</th>\n",
       "      <td>1288557.0</td>\n",
       "      <td>1764255.0</td>\n",
       "      <td>2792692.0</td>\n",
       "      <td>3949638.0</td>\n",
       "      <td>2157702.0</td>\n",
       "      <td>5079930.0</td>\n",
       "      <td>2231631.0</td>\n",
       "      <td>2467553.0</td>\n",
       "      <td>2710000.0</td>\n",
       "      <td>2826267.0</td>\n",
       "      <td>19422190.0</td>\n",
       "      <td>3521882.0</td>\n",
       "      <td>28546210.0</td>\n",
       "      <td>12319860.0</td>\n",
       "      <td>3858863.0</td>\n",
       "      <td>3601444.0</td>\n",
       "      <td>815009.3</td>\n",
       "      <td>1024183.0</td>\n",
       "      <td>1799192.0</td>\n",
       "    </tr>\n",
       "    <tr>\n",
       "      <th>2024</th>\n",
       "      <td>1322018.0</td>\n",
       "      <td>1792774.0</td>\n",
       "      <td>2833075.0</td>\n",
       "      <td>3992895.0</td>\n",
       "      <td>2169131.0</td>\n",
       "      <td>5123197.0</td>\n",
       "      <td>2292102.0</td>\n",
       "      <td>2535242.0</td>\n",
       "      <td>2824908.0</td>\n",
       "      <td>2875475.0</td>\n",
       "      <td>19740540.0</td>\n",
       "      <td>3612608.0</td>\n",
       "      <td>29737510.0</td>\n",
       "      <td>13098490.0</td>\n",
       "      <td>4029423.0</td>\n",
       "      <td>3603991.0</td>\n",
       "      <td>836963.3</td>\n",
       "      <td>1058515.0</td>\n",
       "      <td>1829051.0</td>\n",
       "    </tr>\n",
       "    <tr>\n",
       "      <th>2025</th>\n",
       "      <td>1356407.0</td>\n",
       "      <td>1822387.0</td>\n",
       "      <td>2876079.0</td>\n",
       "      <td>4038568.0</td>\n",
       "      <td>2182439.0</td>\n",
       "      <td>5173302.0</td>\n",
       "      <td>2351626.0</td>\n",
       "      <td>2605236.0</td>\n",
       "      <td>2936290.0</td>\n",
       "      <td>2927095.0</td>\n",
       "      <td>20075600.0</td>\n",
       "      <td>3698197.0</td>\n",
       "      <td>30924390.0</td>\n",
       "      <td>13897900.0</td>\n",
       "      <td>4205102.0</td>\n",
       "      <td>3609290.0</td>\n",
       "      <td>858864.9</td>\n",
       "      <td>1091179.0</td>\n",
       "      <td>1859603.0</td>\n",
       "    </tr>\n",
       "    <tr>\n",
       "      <th>2026</th>\n",
       "      <td>1391777.0</td>\n",
       "      <td>1852965.0</td>\n",
       "      <td>2921277.0</td>\n",
       "      <td>4085817.0</td>\n",
       "      <td>2197323.0</td>\n",
       "      <td>5229258.0</td>\n",
       "      <td>2410456.0</td>\n",
       "      <td>2677368.0</td>\n",
       "      <td>3045759.0</td>\n",
       "      <td>2981182.0</td>\n",
       "      <td>20424180.0</td>\n",
       "      <td>3781108.0</td>\n",
       "      <td>32102730.0</td>\n",
       "      <td>14719120.0</td>\n",
       "      <td>4386041.0</td>\n",
       "      <td>3617527.0</td>\n",
       "      <td>881062.6</td>\n",
       "      <td>1122919.0</td>\n",
       "      <td>1891361.0</td>\n",
       "    </tr>\n",
       "    <tr>\n",
       "      <th>2027</th>\n",
       "      <td>1428033.0</td>\n",
       "      <td>1884677.0</td>\n",
       "      <td>2968034.0</td>\n",
       "      <td>4134207.0</td>\n",
       "      <td>2213428.0</td>\n",
       "      <td>5289618.0</td>\n",
       "      <td>2468437.0</td>\n",
       "      <td>2751689.0</td>\n",
       "      <td>3154511.0</td>\n",
       "      <td>3037909.0</td>\n",
       "      <td>20784020.0</td>\n",
       "      <td>3862623.0</td>\n",
       "      <td>33270140.0</td>\n",
       "      <td>15563830.0</td>\n",
       "      <td>4572193.0</td>\n",
       "      <td>3629144.0</td>\n",
       "      <td>903868.2</td>\n",
       "      <td>1154323.0</td>\n",
       "      <td>1924746.0</td>\n",
       "    </tr>\n",
       "    <tr>\n",
       "      <th>2028</th>\n",
       "      <td>1465238.0</td>\n",
       "      <td>1917532.0</td>\n",
       "      <td>3016091.0</td>\n",
       "      <td>4183591.0</td>\n",
       "      <td>2230621.0</td>\n",
       "      <td>5353492.0</td>\n",
       "      <td>2525545.0</td>\n",
       "      <td>2828157.0</td>\n",
       "      <td>3263320.0</td>\n",
       "      <td>3097358.0</td>\n",
       "      <td>21153450.0</td>\n",
       "      <td>3943587.0</td>\n",
       "      <td>34425170.0</td>\n",
       "      <td>16432660.0</td>\n",
       "      <td>4763718.0</td>\n",
       "      <td>3644320.0</td>\n",
       "      <td>927461.7</td>\n",
       "      <td>1185764.0</td>\n",
       "      <td>1960026.0</td>\n",
       "    </tr>\n",
       "    <tr>\n",
       "      <th>2029</th>\n",
       "      <td>1503479.0</td>\n",
       "      <td>1951559.0</td>\n",
       "      <td>3065297.0</td>\n",
       "      <td>4233948.0</td>\n",
       "      <td>2248806.0</td>\n",
       "      <td>5420081.0</td>\n",
       "      <td>2581711.0</td>\n",
       "      <td>2906746.0</td>\n",
       "      <td>3372632.0</td>\n",
       "      <td>3159447.0</td>\n",
       "      <td>21531180.0</td>\n",
       "      <td>4024473.0</td>\n",
       "      <td>35566660.0</td>\n",
       "      <td>17325930.0</td>\n",
       "      <td>4960712.0</td>\n",
       "      <td>3663035.0</td>\n",
       "      <td>951947.3</td>\n",
       "      <td>1217496.0</td>\n",
       "      <td>1997268.0</td>\n",
       "    </tr>\n",
       "    <tr>\n",
       "      <th>2030</th>\n",
       "      <td>1542855.0</td>\n",
       "      <td>1986793.0</td>\n",
       "      <td>3115610.0</td>\n",
       "      <td>4285332.0</td>\n",
       "      <td>2267916.0</td>\n",
       "      <td>5488704.0</td>\n",
       "      <td>2636873.0</td>\n",
       "      <td>2987437.0</td>\n",
       "      <td>3482651.0</td>\n",
       "      <td>3223973.0</td>\n",
       "      <td>21916430.0</td>\n",
       "      <td>4105555.0</td>\n",
       "      <td>36693390.0</td>\n",
       "      <td>18243690.0</td>\n",
       "      <td>5163064.0</td>\n",
       "      <td>3685111.0</td>\n",
       "      <td>977380.1</td>\n",
       "      <td>1249683.0</td>\n",
       "      <td>2036354.0</td>\n",
       "    </tr>\n",
       "  </tbody>\n",
       "</table>\n",
       "</div>"
      ],
      "text/plain": [
       "Country  Australia     Canada     France    Germany      Italy      Japan  \\\n",
       "2020     1190221.0  1684775.0  2683031.0  3831374.0  2130927.0  4986639.0   \n",
       "2021     1223255.0  1710503.0  2719299.0  3869243.0  2139511.0  5013914.0   \n",
       "2022     1255818.0  1736864.0  2755137.0  3908514.0  2148040.0  5044030.0   \n",
       "2023     1288557.0  1764255.0  2792692.0  3949638.0  2157702.0  5079930.0   \n",
       "2024     1322018.0  1792774.0  2833075.0  3992895.0  2169131.0  5123197.0   \n",
       "2025     1356407.0  1822387.0  2876079.0  4038568.0  2182439.0  5173302.0   \n",
       "2026     1391777.0  1852965.0  2921277.0  4085817.0  2197323.0  5229258.0   \n",
       "2027     1428033.0  1884677.0  2968034.0  4134207.0  2213428.0  5289618.0   \n",
       "2028     1465238.0  1917532.0  3016091.0  4183591.0  2230621.0  5353492.0   \n",
       "2029     1503479.0  1951559.0  3065297.0  4233948.0  2248806.0  5420081.0   \n",
       "2030     1542855.0  1986793.0  3115610.0  4285332.0  2267916.0  5488704.0   \n",
       "\n",
       "Country  South Korea     Mexico     Turkey  United Kingdom  United States  \\\n",
       "2020       2034655.0  2285064.0  2308404.0       2695542.0     18587190.0   \n",
       "2021       2103608.0  2341103.0  2453322.0       2735685.0     18849540.0   \n",
       "2022       2169180.0  2402369.0  2587412.0       2779523.0     19124900.0   \n",
       "2023       2231631.0  2467553.0  2710000.0       2826267.0     19422190.0   \n",
       "2024       2292102.0  2535242.0  2824908.0       2875475.0     19740540.0   \n",
       "2025       2351626.0  2605236.0  2936290.0       2927095.0     20075600.0   \n",
       "2026       2410456.0  2677368.0  3045759.0       2981182.0     20424180.0   \n",
       "2027       2468437.0  2751689.0  3154511.0       3037909.0     20784020.0   \n",
       "2028       2525545.0  2828157.0  3263320.0       3097358.0     21153450.0   \n",
       "2029       2581711.0  2906746.0  3372632.0       3159447.0     21531180.0   \n",
       "2030       2636873.0  2987437.0  3482651.0       3223973.0     21916430.0   \n",
       "\n",
       "Country     Brasil       China       India  Indonesia     Russia  \\\n",
       "2020     3172702.0  24896400.0  10074210.0  3369484.0  3582791.0   \n",
       "2021     3306067.0  26133560.0  10810090.0  3529872.0  3595881.0   \n",
       "2022     3421463.0  27347400.0  11558350.0  3692687.0  3600247.0   \n",
       "2023     3521882.0  28546210.0  12319860.0  3858863.0  3601444.0   \n",
       "2024     3612608.0  29737510.0  13098490.0  4029423.0  3603991.0   \n",
       "2025     3698197.0  30924390.0  13897900.0  4205102.0  3609290.0   \n",
       "2026     3781108.0  32102730.0  14719120.0  4386041.0  3617527.0   \n",
       "2027     3862623.0  33270140.0  15563830.0  4572193.0  3629144.0   \n",
       "2028     3943587.0  34425170.0  16432660.0  4763718.0  3644320.0   \n",
       "2029     4024473.0  35566660.0  17325930.0  4960712.0  3663035.0   \n",
       "2030     4105555.0  36693390.0  18243690.0  5163064.0  3685111.0   \n",
       "\n",
       "Country  South Africa  Argentina  Saudi Arabia  \n",
       "2020         739611.8   902409.5     1686648.0  \n",
       "2021         767194.0   946524.0     1730028.0  \n",
       "2022         792142.0   987153.0     1767250.0  \n",
       "2023         815009.3  1024183.0     1799192.0  \n",
       "2024         836963.3  1058515.0     1829051.0  \n",
       "2025         858864.9  1091179.0     1859603.0  \n",
       "2026         881062.6  1122919.0     1891361.0  \n",
       "2027         903868.2  1154323.0     1924746.0  \n",
       "2028         927461.7  1185764.0     1960026.0  \n",
       "2029         951947.3  1217496.0     1997268.0  \n",
       "2030         977380.1  1249683.0     2036354.0  "
      ]
     },
     "execution_count": 23,
     "metadata": {},
     "output_type": "execute_result"
    }
   ],
   "source": [
    "df"
   ]
  }
 ],
 "metadata": {
  "kernelspec": {
   "display_name": "Python 3.8.2 64-bit ('dev': conda)",
   "language": "python",
   "name": "python38264bitdevconda2defb8d6c8594d6c96c7ec4bee2a2c2d"
  },
  "language_info": {
   "codemirror_mode": {
    "name": "ipython",
    "version": 3
   },
   "file_extension": ".py",
   "mimetype": "text/x-python",
   "name": "python",
   "nbconvert_exporter": "python",
   "pygments_lexer": "ipython3",
   "version": "3.8.2"
  }
 },
 "nbformat": 4,
 "nbformat_minor": 4
}
